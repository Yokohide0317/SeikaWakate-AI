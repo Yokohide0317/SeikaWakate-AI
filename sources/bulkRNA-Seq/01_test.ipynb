{
 "cells": [
  {
   "cell_type": "code",
   "execution_count": 1,
   "metadata": {},
   "outputs": [
    {
     "data": {
      "text/plain": [
       "'\\n30 total samples consisting of 6 samples for each of 5 cell lines;\\n\\nFrom each group of 6 samples 2 were treated with DMSO (control),\\n2 were treated with grape seed extract (GSE),\\nand 2 were treated with oligomeric proanthocyanidins (OPCs)\\n\\n'"
      ]
     },
     "execution_count": 1,
     "metadata": {},
     "output_type": "execute_result"
    }
   ],
   "source": [
    "import pandas as pd\n",
    "\n",
    "\n",
    "\"\"\"\n",
    "30 total samples consisting of 6 samples for each of 5 cell lines;\n",
    "\n",
    "From each group of 6 samples 2 were treated with DMSO (control),\n",
    "2 were treated with grape seed extract (GSE),\n",
    "and 2 were treated with oligomeric proanthocyanidins (OPCs)\n",
    "\n",
    "\"\"\""
   ]
  },
  {
   "cell_type": "code",
   "execution_count": 3,
   "metadata": {},
   "outputs": [
    {
     "data": {
      "text/html": [
       "<div>\n",
       "<style scoped>\n",
       "    .dataframe tbody tr th:only-of-type {\n",
       "        vertical-align: middle;\n",
       "    }\n",
       "\n",
       "    .dataframe tbody tr th {\n",
       "        vertical-align: top;\n",
       "    }\n",
       "\n",
       "    .dataframe thead th {\n",
       "        text-align: right;\n",
       "    }\n",
       "</style>\n",
       "<table border=\"1\" class=\"dataframe\">\n",
       "  <thead>\n",
       "    <tr style=\"text-align: right;\">\n",
       "      <th></th>\n",
       "      <th>SFN</th>\n",
       "      <th>CDKN1A</th>\n",
       "      <th>MAD1L1</th>\n",
       "      <th>CCNE2</th>\n",
       "      <th>E2F1</th>\n",
       "      <th>TGFB3</th>\n",
       "      <th>Group</th>\n",
       "    </tr>\n",
       "  </thead>\n",
       "  <tbody>\n",
       "    <tr>\n",
       "      <th>HT-C1</th>\n",
       "      <td>109.9</td>\n",
       "      <td>15.99</td>\n",
       "      <td>11.98</td>\n",
       "      <td>6.862</td>\n",
       "      <td>39.31</td>\n",
       "      <td>2.1440</td>\n",
       "      <td>HT-C</td>\n",
       "    </tr>\n",
       "    <tr>\n",
       "      <th>HT-C2</th>\n",
       "      <td>136.3</td>\n",
       "      <td>20.81</td>\n",
       "      <td>13.08</td>\n",
       "      <td>7.282</td>\n",
       "      <td>44.13</td>\n",
       "      <td>1.3610</td>\n",
       "      <td>HT-C</td>\n",
       "    </tr>\n",
       "    <tr>\n",
       "      <th>HT-OPC1</th>\n",
       "      <td>186.6</td>\n",
       "      <td>53.71</td>\n",
       "      <td>14.21</td>\n",
       "      <td>6.255</td>\n",
       "      <td>40.06</td>\n",
       "      <td>1.2950</td>\n",
       "      <td>HT-OPC</td>\n",
       "    </tr>\n",
       "    <tr>\n",
       "      <th>HT-OPC2</th>\n",
       "      <td>175.7</td>\n",
       "      <td>46.12</td>\n",
       "      <td>12.13</td>\n",
       "      <td>6.907</td>\n",
       "      <td>38.95</td>\n",
       "      <td>0.8241</td>\n",
       "      <td>HT-OPC</td>\n",
       "    </tr>\n",
       "    <tr>\n",
       "      <th>HT-GSE1</th>\n",
       "      <td>193.5</td>\n",
       "      <td>45.99</td>\n",
       "      <td>10.92</td>\n",
       "      <td>4.911</td>\n",
       "      <td>28.10</td>\n",
       "      <td>1.0750</td>\n",
       "      <td>HT-GSE</td>\n",
       "    </tr>\n",
       "    <tr>\n",
       "      <th>HT-GSE2</th>\n",
       "      <td>194.7</td>\n",
       "      <td>55.96</td>\n",
       "      <td>11.76</td>\n",
       "      <td>4.427</td>\n",
       "      <td>30.49</td>\n",
       "      <td>0.6942</td>\n",
       "      <td>HT-GSE</td>\n",
       "    </tr>\n",
       "  </tbody>\n",
       "</table>\n",
       "</div>"
      ],
      "text/plain": [
       "           SFN  CDKN1A  MAD1L1  CCNE2   E2F1   TGFB3   Group\n",
       "HT-C1    109.9   15.99   11.98  6.862  39.31  2.1440    HT-C\n",
       "HT-C2    136.3   20.81   13.08  7.282  44.13  1.3610    HT-C\n",
       "HT-OPC1  186.6   53.71   14.21  6.255  40.06  1.2950  HT-OPC\n",
       "HT-OPC2  175.7   46.12   12.13  6.907  38.95  0.8241  HT-OPC\n",
       "HT-GSE1  193.5   45.99   10.92  4.911  28.10  1.0750  HT-GSE\n",
       "HT-GSE2  194.7   55.96   11.76  4.427  30.49  0.6942  HT-GSE"
      ]
     },
     "execution_count": 3,
     "metadata": {},
     "output_type": "execute_result"
    }
   ],
   "source": [
    "df = pd.read_csv(\"../../data/bulkRNASeq_TPM-prep-HT.csv\", index_col=0)\n",
    "\n",
    "df[\"Group\"] = [\"HT-C\", \"HT-C\", \"HT-OPC\", \"HT-OPC\", \"HT-GSE\", \"HT-GSE\"]\n",
    "df"
   ]
  },
  {
   "cell_type": "code",
   "execution_count": 6,
   "metadata": {},
   "outputs": [
    {
     "data": {
      "image/png": "[encoded data removed]",
      "text/plain": [
       "<Figure size 640x480 with 1 Axes>"
      ]
     },
     "metadata": {},
     "output_type": "display_data"
    }
   ],
   "source": [
    "import matplotlib.pyplot as plt\n",
    "import seaborn as sns\n",
    "\n",
    "sns.barplot(data=df, x=\"Group\", y=\"TGFB3\")\n",
    "plt.savefig(\"../img/bulkRNA-Seq/checkpoint02.png\")\n",
    "\n",
    "plt.show()"
   ]
  },
  {
   "cell_type": "code",
   "execution_count": null,
   "metadata": {},
   "outputs": [],
   "source": []
  },
  {
   "cell_type": "code",
   "execution_count": 7,
   "metadata": {},
   "outputs": [
    {
     "name": "stderr",
     "output_type": "stream",
     "text": [
      "/var/folders/nb/ks79gh_s30z8f_b8z00ks12w0000gn/T/ipykernel_10633/650106557.py:4: FutureWarning: \n",
      "\n",
      "Passing `palette` without assigning `hue` is deprecated and will be removed in v0.14.0. Assign the `x` variable to `hue` and set `legend=False` for the same effect.\n",
      "\n",
      "  sns.barplot(\n",
      "/var/folders/nb/ks79gh_s30z8f_b8z00ks12w0000gn/T/ipykernel_10633/650106557.py:4: FutureWarning: \n",
      "\n",
      "The `errwidth` parameter is deprecated. And will be removed in v0.15.0. Pass `err_kws={'linewidth': 1}` instead.\n",
      "\n",
      "  sns.barplot(\n"
     ]
    },
    {
     "data": {
      "image/png": "[encoded data removed]",
      "text/plain": [
       "<Figure size 500x600 with 1 Axes>"
      ]
     },
     "metadata": {},
     "output_type": "display_data"
    }
   ],
   "source": [
    "color_dict = {\"HT-C\": \"gray\", \"HT-OPC\": \"green\", \"HT-GSE\": \"red\"}\n",
    "\n",
    "fig, ax = plt.subplots(1, 1, figsize=(5, 6))\n",
    "sns.barplot(\n",
    "    data=df, x=\"Group\", y=\"TGFB3\",\n",
    "    errwidth=1, capsize=0.1,\n",
    "    palette=color_dict, ax=ax\n",
    ")\n",
    "\n",
    "ax.set_title(\"TGFB3 expression in HT-29 cells\")\n",
    "ax.set_ylabel(\"gene expression\")\n",
    "ax.set_xlabel(\"\")\n",
    "\n",
    "plt.savefig(\"../img/bulkRNA-Seq/checkpoint03.png\")\n",
    "\n",
    "plt.show()"
   ]
  },
  {
   "cell_type": "code",
   "execution_count": null,
   "metadata": {},
   "outputs": [],
   "source": []
  },
  {
   "cell_type": "code",
   "execution_count": null,
   "metadata": {},
   "outputs": [],
   "source": []
  }
 ],
 "metadata": {
  "kernelspec": {
   "display_name": "scanpy",
   "language": "python",
   "name": "python3"
  },
  "language_info": {
   "codemirror_mode": {
    "name": "ipython",
    "version": 3
   },
   "file_extension": ".py",
   "mimetype": "text/x-python",
   "name": "python",
   "nbconvert_exporter": "python",
   "pygments_lexer": "ipython3",
   "version": "3.10.14"
  }
 },
 "nbformat": 4,
 "nbformat_minor": 2
}
