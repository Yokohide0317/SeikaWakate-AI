{
  "cells": [
    {
      "cell_type": "code",
      "execution_count": 1,
      "metadata": {
        "colab": {
          "base_uri": "https://localhost:8080/",
          "height": 390
        },
        "id": "J-YTYp5J12N9",
        "outputId": "c7ef4e78-ae48-4c5f-8891-0371d123876f"
      },
      "outputs": [
        {
          "data": {
            "text/html": [
              "<div>\n",
              "<style scoped>\n",
              "    .dataframe tbody tr th:only-of-type {\n",
              "        vertical-align: middle;\n",
              "    }\n",
              "\n",
              "    .dataframe tbody tr th {\n",
              "        vertical-align: top;\n",
              "    }\n",
              "\n",
              "    .dataframe thead th {\n",
              "        text-align: right;\n",
              "    }\n",
              "</style>\n",
              "<table border=\"1\" class=\"dataframe\">\n",
              "  <thead>\n",
              "    <tr style=\"text-align: right;\">\n",
              "      <th></th>\n",
              "      <th>SFN</th>\n",
              "      <th>CDKN1A</th>\n",
              "      <th>MAD1L1</th>\n",
              "      <th>CCNE2</th>\n",
              "      <th>E2F1</th>\n",
              "      <th>TGFB3</th>\n",
              "    </tr>\n",
              "  </thead>\n",
              "  <tbody>\n",
              "    <tr>\n",
              "      <th>HT-C1</th>\n",
              "      <td>109.9</td>\n",
              "      <td>15.99</td>\n",
              "      <td>11.98</td>\n",
              "      <td>6.862</td>\n",
              "      <td>39.31</td>\n",
              "      <td>2.1440</td>\n",
              "    </tr>\n",
              "    <tr>\n",
              "      <th>HT-C2</th>\n",
              "      <td>136.3</td>\n",
              "      <td>20.81</td>\n",
              "      <td>13.08</td>\n",
              "      <td>7.282</td>\n",
              "      <td>44.13</td>\n",
              "      <td>1.3610</td>\n",
              "    </tr>\n",
              "    <tr>\n",
              "      <th>HT-OPC1</th>\n",
              "      <td>186.6</td>\n",
              "      <td>53.71</td>\n",
              "      <td>14.21</td>\n",
              "      <td>6.255</td>\n",
              "      <td>40.06</td>\n",
              "      <td>1.2950</td>\n",
              "    </tr>\n",
              "    <tr>\n",
              "      <th>HT-OPC2</th>\n",
              "      <td>175.7</td>\n",
              "      <td>46.12</td>\n",
              "      <td>12.13</td>\n",
              "      <td>6.907</td>\n",
              "      <td>38.95</td>\n",
              "      <td>0.8241</td>\n",
              "    </tr>\n",
              "    <tr>\n",
              "      <th>HT-GSE1</th>\n",
              "      <td>193.5</td>\n",
              "      <td>45.99</td>\n",
              "      <td>10.92</td>\n",
              "      <td>4.911</td>\n",
              "      <td>28.10</td>\n",
              "      <td>1.0750</td>\n",
              "    </tr>\n",
              "  </tbody>\n",
              "</table>\n",
              "</div>"
            ],
            "text/plain": [
              "           SFN  CDKN1A  MAD1L1  CCNE2   E2F1   TGFB3\n",
              "HT-C1    109.9   15.99   11.98  6.862  39.31  2.1440\n",
              "HT-C2    136.3   20.81   13.08  7.282  44.13  1.3610\n",
              "HT-OPC1  186.6   53.71   14.21  6.255  40.06  1.2950\n",
              "HT-OPC2  175.7   46.12   12.13  6.907  38.95  0.8241\n",
              "HT-GSE1  193.5   45.99   10.92  4.911  28.10  1.0750"
            ]
          },
          "execution_count": 1,
          "metadata": {},
          "output_type": "execute_result"
        }
      ],
      "source": [
        "# 1. pandasライブラリをインポート\n",
        "import pandas as pd\n",
        "\n",
        "# 2. CSVファイルを読み込み、最初の列をインデックスとして設定\n",
        "file_path = '/content/bulkRNASeq_TPM-prep-HT.csv'\n",
        "df = pd.read_csv(file_path, index_col=0)\n",
        "\n",
        "# 3. データフレームの内容を表示\n",
        "df.head()"
      ]
    },
    {
      "cell_type": "code",
      "execution_count": 2,
      "metadata": {
        "colab": {
          "base_uri": "https://localhost:8080/",
          "height": 810
        },
        "id": "QHzaAJN62m-B",
        "outputId": "67d1d50b-b5dd-4c7d-d720-f05e508eddf2"
      },
      "outputs": [
        {
          "data": {
            "text/html": [
              "<div>\n",
              "<style scoped>\n",
              "    .dataframe tbody tr th:only-of-type {\n",
              "        vertical-align: middle;\n",
              "    }\n",
              "\n",
              "    .dataframe tbody tr th {\n",
              "        vertical-align: top;\n",
              "    }\n",
              "\n",
              "    .dataframe thead th {\n",
              "        text-align: right;\n",
              "    }\n",
              "</style>\n",
              "<table border=\"1\" class=\"dataframe\">\n",
              "  <thead>\n",
              "    <tr style=\"text-align: right;\">\n",
              "      <th></th>\n",
              "      <th>Group</th>\n",
              "      <th>SFN</th>\n",
              "      <th>CDKN1A</th>\n",
              "      <th>MAD1L1</th>\n",
              "      <th>CCNE2</th>\n",
              "      <th>E2F1</th>\n",
              "      <th>TGFB3</th>\n",
              "    </tr>\n",
              "  </thead>\n",
              "  <tbody>\n",
              "    <tr>\n",
              "      <th>HT-C1</th>\n",
              "      <td>HT-C</td>\n",
              "      <td>109.9</td>\n",
              "      <td>15.99</td>\n",
              "      <td>11.98</td>\n",
              "      <td>6.862</td>\n",
              "      <td>39.31</td>\n",
              "      <td>2.1440</td>\n",
              "    </tr>\n",
              "    <tr>\n",
              "      <th>HT-C2</th>\n",
              "      <td>HT-C</td>\n",
              "      <td>136.3</td>\n",
              "      <td>20.81</td>\n",
              "      <td>13.08</td>\n",
              "      <td>7.282</td>\n",
              "      <td>44.13</td>\n",
              "      <td>1.3610</td>\n",
              "    </tr>\n",
              "    <tr>\n",
              "      <th>HT-OPC1</th>\n",
              "      <td>HT-OPC</td>\n",
              "      <td>186.6</td>\n",
              "      <td>53.71</td>\n",
              "      <td>14.21</td>\n",
              "      <td>6.255</td>\n",
              "      <td>40.06</td>\n",
              "      <td>1.2950</td>\n",
              "    </tr>\n",
              "    <tr>\n",
              "      <th>HT-OPC2</th>\n",
              "      <td>HT-OPC</td>\n",
              "      <td>175.7</td>\n",
              "      <td>46.12</td>\n",
              "      <td>12.13</td>\n",
              "      <td>6.907</td>\n",
              "      <td>38.95</td>\n",
              "      <td>0.8241</td>\n",
              "    </tr>\n",
              "    <tr>\n",
              "      <th>HT-GSE1</th>\n",
              "      <td>HT-GSE</td>\n",
              "      <td>193.5</td>\n",
              "      <td>45.99</td>\n",
              "      <td>10.92</td>\n",
              "      <td>4.911</td>\n",
              "      <td>28.10</td>\n",
              "      <td>1.0750</td>\n",
              "    </tr>\n",
              "    <tr>\n",
              "      <th>HT-GSE2</th>\n",
              "      <td>HT-GSE</td>\n",
              "      <td>194.7</td>\n",
              "      <td>55.96</td>\n",
              "      <td>11.76</td>\n",
              "      <td>4.427</td>\n",
              "      <td>30.49</td>\n",
              "      <td>0.6942</td>\n",
              "    </tr>\n",
              "  </tbody>\n",
              "</table>\n",
              "</div>"
            ],
            "text/plain": [
              "          Group    SFN  CDKN1A  MAD1L1  CCNE2   E2F1   TGFB3\n",
              "HT-C1      HT-C  109.9   15.99   11.98  6.862  39.31  2.1440\n",
              "HT-C2      HT-C  136.3   20.81   13.08  7.282  44.13  1.3610\n",
              "HT-OPC1  HT-OPC  186.6   53.71   14.21  6.255  40.06  1.2950\n",
              "HT-OPC2  HT-OPC  175.7   46.12   12.13  6.907  38.95  0.8241\n",
              "HT-GSE1  HT-GSE  193.5   45.99   10.92  4.911  28.10  1.0750\n",
              "HT-GSE2  HT-GSE  194.7   55.96   11.76  4.427  30.49  0.6942"
            ]
          },
          "execution_count": 2,
          "metadata": {},
          "output_type": "execute_result"
        }
      ],
      "source": [
        "# Group列を追加\n",
        "groups = ['HT-C', 'HT-C', 'HT-OPC', 'HT-OPC', 'HT-GSE', 'HT-GSE']\n",
        "df['Group'] = groups\n",
        "\n",
        "# Group列を最初の列に移動\n",
        "df = df[['Group'] + [col for col in df.columns if col != 'Group']]\n",
        "\n",
        "df"
      ]
    },
    {
      "cell_type": "code",
      "execution_count": 3,
      "metadata": {},
      "outputs": [
        {
          "data": {
            "image/png": "[encoded data removed]",
            "text/plain": [
              "<Figure size 400x500 with 1 Axes>"
            ]
          },
          "metadata": {},
          "output_type": "display_data"
        }
      ],
      "source": [
        "# matplotlibライブラリをインポート\n",
        "import matplotlib.pyplot as plt\n",
        "# seabornライブラリをインポート\n",
        "import seaborn as sns\n",
        "\n",
        "\n",
        "# 棒グラフを作成\n",
        "plt.figure(figsize=(4, 5))\n",
        "sns.barplot(x='Group', y='TGFB3', data=df)\n",
        "plt.xlabel('Group')\n",
        "plt.ylabel('TGFB3')\n",
        "plt.title('TGFB3 levels across different Groups')\n",
        "plt.show()"
      ]
    },
    {
      "cell_type": "code",
      "execution_count": 4,
      "metadata": {
        "colab": {
          "base_uri": "https://localhost:8080/",
          "height": 721
        },
        "id": "MQSkMUM32_Jd",
        "outputId": "8a131eae-e4e4-4d20-fd9c-de7a7ca947ed"
      },
      "outputs": [
        {
          "name": "stderr",
          "output_type": "stream",
          "text": [
            "/var/folders/jc/g4dhtn691wx52686b6g1dy6h0000gn/T/ipykernel_14770/2365450911.py:6: FutureWarning: \n",
            "\n",
            "Passing `palette` without assigning `hue` is deprecated and will be removed in v0.14.0. Assign the `x` variable to `hue` and set `legend=False` for the same effect.\n",
            "\n",
            "  sns.barplot(\n",
            "/var/folders/jc/g4dhtn691wx52686b6g1dy6h0000gn/T/ipykernel_14770/2365450911.py:6: FutureWarning: \n",
            "\n",
            "The `errwidth` parameter is deprecated. And will be removed in v0.15.0. Pass `err_kws={'linewidth': 1}` instead.\n",
            "\n",
            "  sns.barplot(\n"
          ]
        },
        {
          "data": {
            "image/png": "[encoded data removed]",
            "text/plain": [
              "<Figure size 400x600 with 1 Axes>"
            ]
          },
          "metadata": {},
          "output_type": "display_data"
        }
      ],
      "source": [
        "# グループごとに色を指定\n",
        "colors = {'HT-C': 'skyblue', 'HT-OPC': 'lightgreen', 'HT-GSE': 'salmon'}\n",
        "\n",
        "# グラフを作成\n",
        "plt.figure(figsize=(4, 6))\n",
        "sns.barplot(\n",
        "    data=df, x=\"Group\", y=\"TGFB3\",\n",
        "    errwidth=1, capsize=0.1,\n",
        "    palette=colors\n",
        ")\n",
        "\n",
        "\n",
        "plt.xlabel('Group', fontsize=14)\n",
        "plt.ylabel('TGFB3', fontsize=14)\n",
        "plt.title('TGFB3 levels across different Groups', fontsize=16)\n",
        "plt.xticks(fontsize=12)\n",
        "plt.yticks(fontsize=12)\n",
        "plt.grid(axis='y', linestyle='--', alpha=0.7)\n",
        "\n",
        "plt.show()\n"
      ]
    },
    {
      "cell_type": "code",
      "execution_count": null,
      "metadata": {},
      "outputs": [],
      "source": []
    }
  ],
  "metadata": {
    "colab": {
      "provenance": []
    },
    "kernelspec": {
      "display_name": "Python 3",
      "name": "python3"
    },
    "language_info": {
      "codemirror_mode": {
        "name": "ipython",
        "version": 3
      },
      "file_extension": ".py",
      "mimetype": "text/x-python",
      "name": "python",
      "nbconvert_exporter": "python",
      "pygments_lexer": "ipython3",
      "version": "3.10.13"
    }
  },
  "nbformat": 4,
  "nbformat_minor": 0
}
